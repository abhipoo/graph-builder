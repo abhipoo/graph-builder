{
 "cells": [
  {
   "cell_type": "code",
   "execution_count": 1,
   "metadata": {},
   "outputs": [],
   "source": [
    "import praw\n",
    "import pandas as pd"
   ]
  },
  {
   "cell_type": "code",
   "execution_count": 2,
   "metadata": {},
   "outputs": [],
   "source": [
    "#initialize subreddits\n",
    "\n",
    "reddit = praw.Reddit(user_agent='Comment Extraction (by /u/bing2912)',\n",
    "\t                     client_id='8GnbCVc5SmQXgQ', client_secret=\"AaX1o4t6X99U409ZR06DLXd5o-4\"\n",
    "\t                     #,username='USERNAME', password='PASSWORD'\n",
    "\t                    )"
   ]
  },
  {
   "cell_type": "code",
   "execution_count": 4,
   "metadata": {},
   "outputs": [],
   "source": [
    "subreddit_bs = reddit.subreddit('booksuggestions')"
   ]
  },
  {
   "cell_type": "code",
   "execution_count": null,
   "metadata": {},
   "outputs": [],
   "source": [
    "for submission in subreddit_bs.top('all', limit = 10):\n",
    "    print(submission.id)\n",
    "    print(submission.title)\n",
    "    print()\n",
    "\n",
    "for submission in subreddit_bs.hot(limit = 10):\n",
    "    print(submission.title)\n",
    "    print()\n",
    "\n",
    "\n",
    "\n",
    "submission = reddit.submission(id = 'f26inc')\n",
    "\n",
    "for comment in submission.comments[:10]:\n",
    "    print(comment.id)\n",
    "    print(comment.body)\n",
    "    print(\"*****\")\n"
   ]
  },
  {
   "cell_type": "code",
   "execution_count": null,
   "metadata": {},
   "outputs": [],
   "source": []
  },
  {
   "cell_type": "code",
   "execution_count": null,
   "metadata": {},
   "outputs": [],
   "source": [
    "#Preparing data for manual data entry\n",
    "\n",
    "reddit_id = []\n",
    "text = []\n",
    "score = []\n",
    "is_op = []\n",
    "submission_url = []\n",
    "\n",
    "\n",
    "#initialize reddit object\n",
    "reddit = praw.Reddit(user_agent='Comment Extraction (by /u/bing2912)',\n",
    "\t                     client_id='8GnbCVc5SmQXgQ', client_secret=\"AaX1o4t6X99U409ZR06DLXd5o-4\"\n",
    "\t                     #,username='USERNAME', password='PASSWORD'\n",
    "\t                    )\n",
    "\n",
    "#set subreddit here\n",
    "#subreddit = reddit.subreddit('booksuggestions')\n",
    "#subreddit = reddit.subreddit('suggestmeabook')\n",
    "#subreddit = reddit.subreddit('books')\n",
    "subreddit = reddit.subreddit('MovieSuggestions')\n",
    "\n",
    "#for submission in subreddit_bs.top('all', limit = 2):\n",
    "#for submission in subreddit.top('day', limit = 25):\n",
    "for submission in subreddit.hot(limit = 25):\n",
    "    #Submission\n",
    "    #print(submission.id)\n",
    "    reddit_id.append(submission.id)\n",
    "    \n",
    "    #print(submission.url)\n",
    "    submission_url.append(submission.url)\n",
    "    \n",
    "    #print(submission.title)\n",
    "    #print(submission.selftext)\n",
    "    text.append(submission.title + \" || \" +submission.selftext)\n",
    "    \n",
    "    #print(submission.score)\n",
    "    score.append(submission.score)\n",
    "    \n",
    "    is_op.append(True)\n",
    "    \n",
    "    #print()\n",
    "    \n",
    "    #Comments\n",
    "    for comment in submission.comments[:10]:\n",
    "        submission_url.append(submission.url)\n",
    "        \n",
    "        #print(comment.id)\n",
    "        reddit_id.append(comment.id)\n",
    "        \n",
    "        #print(comment.body)\n",
    "        text.append(comment.body)\n",
    "        \n",
    "        #print(comment.score)\n",
    "        score.append(comment.score)\n",
    "        \n",
    "        is_op.append(False)\n",
    "    \n",
    "    #print(\"*******\")"
   ]
  },
  {
   "cell_type": "code",
   "execution_count": null,
   "metadata": {},
   "outputs": [],
   "source": [
    "#Form a dictionary out of those lists\n",
    "data = {'submission_url': submission_url, 'reddit_id': reddit_id, 'text' : text, 'score' : score, 'is_op' : is_op}\n",
    "df = pd.DataFrame.from_dict(data)"
   ]
  },
  {
   "cell_type": "code",
   "execution_count": null,
   "metadata": {},
   "outputs": [],
   "source": [
    "df"
   ]
  },
  {
   "cell_type": "code",
   "execution_count": 36,
   "metadata": {},
   "outputs": [],
   "source": [
    "#df.to_excel('booksuggestions_hot_25_24_Mar.xlsx', index = False)\n",
    "df.to_excel('suggestmeabook_top_25_28_Mar.xlsx', index = False)"
   ]
  },
  {
   "cell_type": "code",
   "execution_count": null,
   "metadata": {},
   "outputs": [],
   "source": []
  }
 ],
 "metadata": {
  "kernelspec": {
   "display_name": "Python 3",
   "language": "python",
   "name": "python3"
  },
  "language_info": {
   "codemirror_mode": {
    "name": "ipython",
    "version": 3
   },
   "file_extension": ".py",
   "mimetype": "text/x-python",
   "name": "python",
   "nbconvert_exporter": "python",
   "pygments_lexer": "ipython3",
   "version": "3.7.4"
  }
 },
 "nbformat": 4,
 "nbformat_minor": 4
}
